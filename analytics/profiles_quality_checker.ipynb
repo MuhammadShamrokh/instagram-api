{
 "cells": [
  {
   "cell_type": "code",
   "execution_count": null,
   "id": "90d345c3",
   "metadata": {},
   "outputs": [],
   "source": [
    "import matplotlib.pyplot as plt\n",
    "import pandas as pd\n",
    "import sqlite3"
   ]
  },
  {
   "cell_type": "markdown",
   "id": "818089cf",
   "metadata": {},
   "source": [
    "### calculating percating printing graph function"
   ]
  },
  {
   "cell_type": "code",
   "execution_count": null,
   "id": "19ab93db",
   "metadata": {},
   "outputs": [],
   "source": [
    "def calculate_percentage_print_graph(posts_owners_id_set, profiles_id_lst):\n",
    "    percentage_lst = list()\n",
    "\n",
    "    # calculating profiles dataframe length\n",
    "    profiles_count = len(profiles_id_lst)\n",
    "\n",
    "    for i in range(1, profiles_count + 1):\n",
    "        # initializing a set that include all the first i profiles id\n",
    "        curr_profiles_id_set = set(profiles_id_lst[:i])\n",
    "        # calculating the percentage of posts these profiles posted\n",
    "        intersaction_set = curr_profiles_id_set.intersection(posts_owners_id_set)\n",
    "        percentage = len(intersaction_set) / len(posts_owners_id_set) * 100\n",
    "        # appending percentage we received from first i profiles to percentage list\n",
    "        percentage_lst.append(percentage)\n",
    "    \n",
    "    # creating a list that include the number 1 to len(profiles_df)\n",
    "    amount_of_profiles_lst = list(range(1, len(profiles_id_lst) + 1))\n",
    "\n",
    "    # creating dataframe with results\n",
    "    results_df = pd.DataFrame({'profiles_count': amount_of_profiles_lst,\n",
    "                               'percentage': percentage_lst})\n",
    "\n",
    "    # plot results graph\n",
    "    plt.plot(amount_of_profiles_lst, percentage_lst)\n",
    "    plt.xlabel(\"amount of profiles\")  # Set x-axis label\n",
    "    plt.ylabel(\"percentage %\")  # Set y-axis label\n",
    "    plt.show()\n",
    "    \n",
    "    return results_df\n",
    "    "
   ]
  },
  {
   "cell_type": "markdown",
   "id": "5ca48121",
   "metadata": {},
   "source": [
    "#### graph:\n",
    "####   - posts that include nfl hashtag\n",
    "####   - snowballed profiles id"
   ]
  },
  {
   "cell_type": "code",
   "execution_count": null,
   "id": "efbf43b3",
   "metadata": {},
   "outputs": [],
   "source": [
    "# reading profiles engagement table from database into dataframe\n",
    "conn = sqlite3.connect('../data/api-data/profiles/profiles.db')\n",
    "profiles_df = pd.read_sql_query(f\"\"\"SELECT ID, Nickname, Post_Count, Follower_Count, Following_Count, Posts_Count_In_Week, Engagement\n",
    "                                    FROM NFL_Profiles_weekly_engagement\n",
    "                                    ORDER BY engagement desc\"\"\", conn)\n",
    "\n",
    "conn.close()\n",
    "\n",
    "# reading NFL_posts table from database into dataframe\n",
    "conn = sqlite3.connect('../data/api-data/posts-comments-replies/posts.db')\n",
    "posts_df = pd.read_sql_query(f\"\"\"SELECT ID, Owner_ID, Likes_Count, Comments_Count, Publication_Date\n",
    "                                    FROM NFL_Posts\"\"\", conn)\n",
    "\n",
    "conn.close()\n",
    "\n",
    "#printing dataset length\n",
    "print(\"The number of posts is: \"+str(len(posts_df)))\n",
    "print(\"The number of profiles is: \"+str(len(profiles_df)))\n",
    "\n",
    "# creating posts owners id set and profiles id list\n",
    "posts_owners_id_set = set(posts_df[\"Owner_ID\"])\n",
    "profiles_id_lst = list(profiles_df[\"ID\"])\n",
    "\n",
    "#calling function to calculate percentage and print graph\n",
    "results_df = calculate_percentage_print_graph(posts_owners_id_set, profiles_id_lst)\n",
    "# saving results \n",
    "results_df.to_csv(\"nfl-hashtag-posts-owners-catch-percentage.csv\")\n"
   ]
  },
  {
   "cell_type": "markdown",
   "id": "e40198dc",
   "metadata": {},
   "source": [
    "#### graph:\n",
    "####   - posts that include nfl team name hashtag\n",
    "####   - snowballed profiles id"
   ]
  },
  {
   "cell_type": "code",
   "execution_count": null,
   "id": "c54f305a",
   "metadata": {},
   "outputs": [],
   "source": [
    "# reading profiles engagement table from database into dataframe\n",
    "conn = sqlite3.connect('../data/api-data/profiles/profiles.db')\n",
    "profiles_df = pd.read_sql_query(f\"\"\"SELECT ID, Nickname, Post_Count, Follower_Count, Following_Count, Posts_Count_In_Week, Engagement\n",
    "                                    FROM NFL_Profiles_weekly_engagement\n",
    "                                    ORDER BY engagement desc\"\"\", conn)\n",
    "\n",
    "conn.close()\n",
    "\n",
    "# reading NFL_posts table from database into dataframe\n",
    "conn = sqlite3.connect('../data/api-data/posts-comments-replies/posts.db')\n",
    "posts_df = pd.read_sql_query(f\"\"\"SELECT ID, Owner_ID, Likes_Count, Comments_Count, Publication_Date\n",
    "                                    FROM posts_by_hashtag\"\"\", conn)\n",
    "\n",
    "conn.close()\n",
    "\n",
    "#printing dataset length\n",
    "print(\"The number of posts is: \"+str(len(posts_df)))\n",
    "print(\"The number of profiles is: \"+str(len(profiles_df)))\n",
    "\n",
    "# creating posts owners id set and profiles id list\n",
    "posts_owners_id_set = set(posts_df[\"Owner_ID\"])\n",
    "profiles_id_lst = list(profiles_df[\"ID\"])\n",
    "\n",
    "#calling function to calculate percentage and print graph\n",
    "results_df = calculate_percentage_print_graph(posts_owners_id_set, profiles_id_lst)\n",
    "# saving results \n",
    "results_df.to_csv(\"nfl-teams-hashtag-posts-owners-catch-percentage.csv\")"
   ]
  },
  {
   "cell_type": "markdown",
   "id": "81fd8427",
   "metadata": {},
   "source": [
    "#### graph (reversed):\n",
    "####   - snowballed posts\n",
    "####   - hashtag posts owners profile id "
   ]
  },
  {
   "cell_type": "code",
   "execution_count": null,
   "id": "0ead438a",
   "metadata": {},
   "outputs": [],
   "source": [
    "# reading profiles engagement table from database into dataframe\n",
    "conn = sqlite3.connect('../data/api-data/posts-comments-replies/posts.db')\n",
    "snowball_posts_df = pd.read_sql_query(f\"\"\"SELECT ID, Owner_ID, Likes_Count, Comments_Count, Publication_Date\n",
    "                                    FROM snowball_posts\"\"\", conn)\n",
    "\n",
    "conn.close()\n",
    "\n",
    "# reading NFL_posts table from database into dataframe\n",
    "conn = sqlite3.connect('../data/api-data/posts-comments-replies/posts.db')\n",
    "hashtag_posts_df = pd.read_sql_query(f\"\"\"SELECT ID, Owner_ID, Likes_Count, Comments_Count, Publication_Date\n",
    "                                    FROM posts_by_hashtag\"\"\", conn)\n",
    "\n",
    "conn.close()\n",
    "\n",
    "#printing dataset length\n",
    "print(\"The number of posts is: \"+str(len(snowball_posts_df)))\n",
    "print(\"The number of profiles is: \"+str(len(set(hashtag_posts_df[\"Owner_ID\"]))))\n",
    "\n",
    "# creating posts owners id set and profiles id list\n",
    "posts_owners_id_set = set(snowball_posts_df[\"Owner_ID\"])\n",
    "profiles_id_lst = list(set(hashtag_posts_df[\"Owner_ID\"]))\n",
    "\n",
    "#calling function to calculate percentage and print graph\n",
    "results_df = calculate_percentage_print_graph(posts_owners_id_set, profiles_id_lst)\n",
    "# saving results \n",
    "results_df.to_csv(\"reverse-owners-catch-percentage.csv\")"
   ]
  },
  {
   "cell_type": "code",
   "execution_count": null,
   "id": "1d9af495",
   "metadata": {},
   "outputs": [],
   "source": []
  }
 ],
 "metadata": {
  "kernelspec": {
   "display_name": "Python 3 (ipykernel)",
   "language": "python",
   "name": "python3"
  },
  "language_info": {
   "codemirror_mode": {
    "name": "ipython",
    "version": 3
   },
   "file_extension": ".py",
   "mimetype": "text/x-python",
   "name": "python",
   "nbconvert_exporter": "python",
   "pygments_lexer": "ipython3",
   "version": "3.9.19"
  }
 },
 "nbformat": 4,
 "nbformat_minor": 5
}
